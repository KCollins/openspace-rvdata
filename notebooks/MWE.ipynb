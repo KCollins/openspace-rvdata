{
 "cells": [
  {
   "cell_type": "markdown",
   "id": "b1526c74-9ea8-4a04-8036-ba8df7443c42",
   "metadata": {},
   "source": [
    "# Minimum Working Example\n",
    "This is an example that creates cruise tracks for [RR2402](https://doi.org/10.7284/910464). \n",
    "The [OpenSpace asset](https://docs.openspaceproject.com/releases-v0.20/creating-data-assets/asset-creation/assets.html#simple-example) we're creating has two parts: the keyframes (where the ship is) and the main asset file, which includes metadata about the mission. Both of these are in [Lua](https://www.lua.org/home.html), with the file suffix .asset."
   ]
  },
  {
   "cell_type": "code",
   "execution_count": null,
   "id": "e43e2837-afef-4a7e-9dd5-0f4f033284bf",
   "metadata": {},
   "outputs": [],
   "source": [
    "import openspace_rvdata.r2r2df as r2r\n",
    "import openspace_rvdata.tracks as trk"
   ]
  },
  {
   "cell_type": "code",
   "execution_count": null,
   "id": "3fb8e00b-ed32-429f-97a0-4a8c774ac286",
   "metadata": {},
   "outputs": [],
   "source": [
    "cruise_id = \"RR2402\"\n",
    "url = r2r.get_r2r_url(cruise_id)\n",
    "mdf = r2r.get_cruise_metadata(url)\n",
    "mdf"
   ]
  },
  {
   "cell_type": "code",
   "execution_count": null,
   "id": "d5513799-dbc1-47a0-91f9-49a45b3778dd",
   "metadata": {},
   "outputs": [],
   "source": [
    "gdf = r2r.get_cruise_nav(cruise_id)\n",
    "gdf"
   ]
  },
  {
   "cell_type": "code",
   "execution_count": null,
   "id": "4b9d9b5b-2b09-4d56-b4e2-1d3e3f4975fd",
   "metadata": {},
   "outputs": [],
   "source": [
    "trk.get_cruise_asset(mdf)\n",
    "trk.get_cruise_keyframes(\"tmp/\"+cruise_id+\"_1min.geoCSV\")"
   ]
  }
 ],
 "metadata": {
  "kernelspec": {
   "display_name": "Python 3 (ipykernel)",
   "language": "python",
   "name": "python3"
  },
  "language_info": {
   "codemirror_mode": {
    "name": "ipython",
    "version": 3
   },
   "file_extension": ".py",
   "mimetype": "text/x-python",
   "name": "python",
   "nbconvert_exporter": "python",
   "pygments_lexer": "ipython3",
   "version": "3.9.1"
  }
 },
 "nbformat": 4,
 "nbformat_minor": 5
}
