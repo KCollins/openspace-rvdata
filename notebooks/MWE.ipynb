{
 "cells": [
  {
   "cell_type": "markdown",
   "id": "b1526c74-9ea8-4a04-8036-ba8df7443c42",
   "metadata": {},
   "source": [
    "# Minimum Working Example"
   ]
  },
  {
   "cell_type": "code",
   "execution_count": null,
   "id": "aff990a0-2b95-4c64-bc89-e60ec9534288",
   "metadata": {},
   "outputs": [],
   "source": [
    "import openspace_rvdata.r2r2df as r2r\n",
    "import openspace_rvdata.tracks as trk\n",
    "cruise_id = \"RR2402\"\n",
    "url = r2r.get_r2r_url(cruise_id)\n",
    "mdf = r2r.get_cruise_metadata(url)\n",
    "gdf = r2r.get_cruise_nav(cruise_id)\n",
    "trk.get_cruise_asset(mdf)\n",
    "trk.get_cruise_keyframes(\"tmp/\"+cruise_id+\"_1min.geoCSV\")"
   ]
  }
 ],
 "metadata": {
  "kernelspec": {
   "display_name": "Python 3 (ipykernel)",
   "language": "python",
   "name": "python3"
  },
  "language_info": {
   "codemirror_mode": {
    "name": "ipython",
    "version": 3
   },
   "file_extension": ".py",
   "mimetype": "text/x-python",
   "name": "python",
   "nbconvert_exporter": "python",
   "pygments_lexer": "ipython3",
   "version": "3.9.1"
  }
 },
 "nbformat": 4,
 "nbformat_minor": 5
}
