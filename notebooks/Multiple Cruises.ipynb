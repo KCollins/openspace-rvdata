{
 "cells": [
  {
   "cell_type": "markdown",
   "id": "a93b4622-b701-44ab-ae8b-8fc1501fd938",
   "metadata": {},
   "source": [
    "## Multiple Cruises\n",
    "You may want to gather data for all the cruises in a particular category: e.g., by a particular vessel, related to a particular topic, in a particular latitude range, etc. Here's some example code to start from."
   ]
  },
  {
   "cell_type": "code",
   "execution_count": null,
   "id": "754e4e46-a74e-4ddc-a8ed-69bb5ef4fcf1",
   "metadata": {},
   "outputs": [],
   "source": [
    "# # Local installation:\n",
    "# import os\n",
    "# package_root = os.path.join(\"\", '..')\n",
    "# %pip install -e \"{package_root}\""
   ]
  },
  {
   "cell_type": "code",
   "execution_count": null,
   "id": "c3c76c08-6cd3-443a-816f-fcc5eff1cc47",
   "metadata": {},
   "outputs": [],
   "source": [
    "import os\n",
    "from datetime import datetime as dt\n",
    "import pandas as pd\n",
    "import openspace_rvdata.r2r2df as r2r\n",
    "import openspace_rvdata.tracks as trk\n",
    "\n",
    "import logging\n",
    "logger = logging.getLogger(__name__)"
   ]
  },
  {
   "cell_type": "code",
   "execution_count": null,
   "id": "c0f4b495-6d4d-4a5a-a7c0-0b1a568d6b2c",
   "metadata": {},
   "outputs": [],
   "source": [
    "url = r2r.get_r2r_url(vessel_name = \"Revelle\")\n",
    "mdf = r2r.get_cruise_metadata(url)\n",
    "# mdf = mdf.head(5) # first few rows only, for testing."
   ]
  },
  {
   "cell_type": "code",
   "execution_count": null,
   "id": "d3070123-1e2d-40a5-ada5-3285f4109762",
   "metadata": {},
   "outputs": [],
   "source": [
    "for cruise_id in mdf.cruise_id:\n",
    "    # todo: add check for if cruise_id is already covered in tmp directory\n",
    "    is_in_filename = any(cruise_id in filename for filename in os.listdir(\"tmp/\"))\n",
    "    if is_in_filename:\n",
    "        print(\"Got a file for \" + cruise_id + \"; moving on.\")\n",
    "        continue\n",
    "    else:\n",
    "        try:\n",
    "            print(\"Pulling data for\" + cruise_id)\n",
    "            r2r.get_cruise_nav(cruise_id, \"60min\")\n",
    "            \n",
    "        except:\n",
    "            print(\"Ran into an issue with \" + cruise_id)\n",
    "            continue"
   ]
  },
  {
   "cell_type": "code",
   "execution_count": null,
   "id": "1fffc08f-320b-45f4-b646-3c34ef514f55",
   "metadata": {},
   "outputs": [],
   "source": [
    "from pathlib import Path\n",
    "for file_path in Path(\"tmp\").rglob('*_1min.geoCSV'):\n",
    "    if file_path.is_file():\n",
    "        fname = str(file_path.stem)\n",
    "        trk.convert_geocsv_to_geojson(file_path, \"tmp/\"+fname+\".geoJSON\")"
   ]
  },
  {
   "cell_type": "markdown",
   "id": "42725239-0d8e-4bca-8033-56177efe09b0",
   "metadata": {},
   "source": [
    "Adapted code below from https://gist.github.com/ericrobskyhuntley/790937a759fd89ed77c8831f880f854c#file-geojson-merge-py "
   ]
  },
  {
   "cell_type": "code",
   "execution_count": null,
   "id": "9fe0196a-9e3c-476f-bef5-cd67096701ed",
   "metadata": {},
   "outputs": [],
   "source": [
    "import os\n",
    "import glob\n",
    "import geojson\n",
    "\n",
    "json_dir_name = \"../notebooks/tmp/\"\n",
    "json_pattern = os.path.join(json_dir_name,'*.geoJSON')\n",
    "file_list = glob.glob(json_pattern)\n",
    "\n",
    "collection = []\n",
    "\n",
    "for file in file_list:\n",
    "    with open(file) as f:\n",
    "        layer = geojson.load(f)\n",
    "        collection.append(layer)\n",
    "\n",
    "geo_collection = geojson.GeometryCollection(collection)\n",
    "\n",
    "with open('tmp/test_collection.geojson', 'w') as f:\n",
    "    geojson.dump(geo_collection, f)"
   ]
  },
  {
   "cell_type": "code",
   "execution_count": null,
   "id": "e82b73b7-b4d1-45c2-94ee-8fdc4fcf24ce",
   "metadata": {},
   "outputs": [],
   "source": [
    "trk.get_cruise_asset(mdf)\n",
    "trk.get_cruise_keyframes(\"tmp/\"+cruise_id+\"_1min.geoCSV\")"
   ]
  },
  {
   "cell_type": "code",
   "execution_count": null,
   "id": "6c7f5ee5-a774-4168-b0ff-4597cf9f6554",
   "metadata": {},
   "outputs": [],
   "source": [
    "json_dir_name = \"../notebooks/tmp/\"\n",
    "json_pattern = os.path.join(json_dir_name,'*.geoJSON')\n",
    "file_list = glob.glob(json_pattern)\n",
    "file_list\n",
    "# json_pattern"
   ]
  },
  {
   "cell_type": "code",
   "execution_count": null,
   "id": "efefd897-3e2f-4e98-aa13-59b4757e4b35",
   "metadata": {},
   "outputs": [],
   "source": []
  }
 ],
 "metadata": {
  "kernelspec": {
   "display_name": "Python 3 (ipykernel)",
   "language": "python",
   "name": "python3"
  },
  "language_info": {
   "codemirror_mode": {
    "name": "ipython",
    "version": 3
   },
   "file_extension": ".py",
   "mimetype": "text/x-python",
   "name": "python",
   "nbconvert_exporter": "python",
   "pygments_lexer": "ipython3",
   "version": "3.10.12"
  }
 },
 "nbformat": 4,
 "nbformat_minor": 5
}
