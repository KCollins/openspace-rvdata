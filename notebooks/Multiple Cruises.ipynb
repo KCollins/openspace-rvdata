{
 "cells": [
  {
   "cell_type": "markdown",
   "id": "a93b4622-b701-44ab-ae8b-8fc1501fd938",
   "metadata": {},
   "source": [
    "## Multiple Cruises\n",
    "You may want to gather data for all the cruises in a particular category: e.g., by a particular vessel, related to a particular topic, in a particular latitude range, etc. Here's some example code to start from."
   ]
  },
  {
   "cell_type": "code",
   "execution_count": null,
   "id": "c3c76c08-6cd3-443a-816f-fcc5eff1cc47",
   "metadata": {},
   "outputs": [],
   "source": [
    "import os\n",
    "from datetime import datetime as dt\n",
    "import pandas as pd\n",
    "import openspace_rvdata.r2r2df as r2r\n",
    "import openspace_rvdata.tracks as trk\n",
    "\n",
    "import logging\n",
    "logger = logging.getLogger(__name__)"
   ]
  },
  {
   "cell_type": "code",
   "execution_count": null,
   "id": "c0f4b495-6d4d-4a5a-a7c0-0b1a568d6b2c",
   "metadata": {},
   "outputs": [],
   "source": [
    "url = r2r.get_r2r_url(vessel_name = \"Revelle\")\n",
    "mdf = r2r.get_cruise_metadata(url)\n",
    "mdf = mdf.head(5) # first few rows only, for testing."
   ]
  },
  {
   "cell_type": "code",
   "execution_count": null,
   "id": "d3070123-1e2d-40a5-ada5-3285f4109762",
   "metadata": {},
   "outputs": [],
   "source": [
    "for cruise_id in mdf.cruise_id:\n",
    "    # todo: add check for if cruise_id is already covered in tmp directory\n",
    "    is_in_filename = any(cruise_id in filename for filename in os.listdir(\"tmp/\"))\n",
    "    if is_in_filename:\n",
    "        print(\"Got a file for \" + cruise_id + \"; moving on.\")\n",
    "        continue\n",
    "    else:\n",
    "        try:\n",
    "            print(\"Pulling data for\" + cruise_id)\n",
    "            r2r.get_cruise_nav(cruise_id, \"60min\")\n",
    "        except:\n",
    "            print(\"Ran into an issue with \" + cruise_id)\n",
    "            continue"
   ]
  },
  {
   "cell_type": "code",
   "execution_count": null,
   "id": "1fffc08f-320b-45f4-b646-3c34ef514f55",
   "metadata": {},
   "outputs": [],
   "source": [
    "# from pathlib import Path\n",
    "# for file_path in Path(\"tmp\").rglob('*_1min.geoCSV'):\n",
    "#     if file_path.is_file():\n",
    "#         fname = str(file_path.stem)\n",
    "#         trk.convert_geocsv_to_geojson(file_path, \"tmp/\"+fname+\".geoJSON\")"
   ]
  }
 ],
 "metadata": {
  "kernelspec": {
   "display_name": "Python 3 (ipykernel)",
   "language": "python",
   "name": "python3"
  },
  "language_info": {
   "codemirror_mode": {
    "name": "ipython",
    "version": 3
   },
   "file_extension": ".py",
   "mimetype": "text/x-python",
   "name": "python",
   "nbconvert_exporter": "python",
   "pygments_lexer": "ipython3",
   "version": "3.9.1"
  }
 },
 "nbformat": 4,
 "nbformat_minor": 5
}
